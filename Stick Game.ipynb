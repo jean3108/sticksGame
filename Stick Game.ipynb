{
 "cells": [
  {
   "cell_type": "markdown",
   "metadata": {},
   "source": [
    "# Stick Game"
   ]
  },
  {
   "cell_type": "markdown",
   "metadata": {},
   "source": [
    "States is a dict to memoize already calculated state using an ID"
   ]
  },
  {
   "cell_type": "code",
   "execution_count": null,
   "metadata": {},
   "outputs": [],
   "source": [
    "states = {}"
   ]
  },
  {
   "cell_type": "code",
   "execution_count": 4,
   "metadata": {},
   "outputs": [],
   "source": [
    "nbMaxTook = 3\n",
    "class stateSG():\n",
    "\n",
    "    def __init__(self, nbStick, maxPlayer):\n",
    "        self.nbStick = nbStick\n",
    "        self.maxPlayer = 1 if maxPlayer==True else -1\n",
    "        \n",
    "    def calculateScore(self):\n",
    "        \n",
    "        if(self.nbStick <= 1):\n",
    "            return -self.maxPlayer \n",
    "        return 0 #To indicate no one win for now. Can be replace by a function which estimate the score\n",
    "    \n",
    "    def getChoices(self):\n",
    "        nbMaxTurn = nbMaxTook if nbMaxTook<= self.nbStick else self.nbStick\n",
    "        return [i for i in range(1, nbMaxTurn+1)]\n",
    "        \n",
    "    def doChoice(self, nb, inNewState = False):\n",
    "        \n",
    "        if(inNewState == False):\n",
    "            self.nbStick -= nb\n",
    "            self.maxPlayer *= -1\n",
    "            return None\n",
    "        else:\n",
    "            return stateSG(self.nbStick-nb, -self.maxPlayer)\n",
    "            \n",
    "    def undoChoice(self, nb, inNewState = False):\n",
    "\n",
    "        return self.doChoice(-nb, inNewState)"
   ]
  },
  {
   "cell_type": "code",
   "execution_count": 5,
   "metadata": {},
   "outputs": [],
   "source": [
    "def minmaxDecision(state):\n",
    "    \n",
    "    score = state.calculateScore()\n",
    "    if(score != 0):\n",
    "        return score\n",
    "    \n",
    "    choices = state.getChoices()\n",
    "    if(state.maxPlayer == 1):\n",
    "        score = -1\n",
    "        for choice in choices:\n",
    "            state.doChoice(choice)\n",
    "            score = max(score, minmaxDecision(state))\n",
    "            state.undoChoice(choice)\n",
    "        return score\n",
    "    else:\n",
    "        score = 1\n",
    "        for choice in choices:\n",
    "            state.doChoice(choice)\n",
    "            score = min(score, minmaxDecision(state))\n",
    "            state.undoChoice(choice)\n",
    "        return score"
   ]
  },
  {
   "cell_type": "code",
   "execution_count": 6,
   "metadata": {},
   "outputs": [
    {
     "name": "stdout",
     "output_type": "stream",
     "text": [
      "Start with  1  and lose\n",
      "Start with  2  and win\n",
      "Start with  3  and win\n",
      "Start with  4  and win\n",
      "Start with  5  and lose\n",
      "Start with  6  and win\n",
      "Start with  7  and win\n",
      "Start with  8  and win\n",
      "Start with  9  and lose\n",
      "Start with  10  and win\n"
     ]
    }
   ],
   "source": [
    "for i in range(1, 11):\n",
    "    test = stateSG(i, True)\n",
    "    print(\"Start with \", test.nbStick, \" and win\" if minmaxDecision(test)==1 else \" and lose\")"
   ]
  },
  {
   "cell_type": "code",
   "execution_count": 9,
   "metadata": {},
   "outputs": [],
   "source": [
    "def negamaxDecision(state):\n",
    "    \n",
    "    score = state.calculateScore()\n",
    "    if(score != 0):\n",
    "        return score * state.maxPlayer\n",
    "    \n",
    "    score = -1\n",
    "    choices = state.getChoices()\n",
    "    for choice in choices:\n",
    "        state.doChoice(choice)\n",
    "        score = max(score,  -negamaxDecision(state))\n",
    "        state.undoChoice(choice)\n",
    "    return score"
   ]
  },
  {
   "cell_type": "code",
   "execution_count": 10,
   "metadata": {},
   "outputs": [
    {
     "name": "stdout",
     "output_type": "stream",
     "text": [
      "Start with  1  and lose\n",
      "Start with  2  and win\n",
      "Start with  3  and win\n",
      "Start with  4  and win\n",
      "Start with  5  and lose\n",
      "Start with  6  and win\n",
      "Start with  7  and win\n",
      "Start with  8  and win\n",
      "Start with  9  and lose\n",
      "Start with  10  and win\n"
     ]
    }
   ],
   "source": [
    "for i in range(1, 11):\n",
    "    test = stateSG(i, True)\n",
    "    print(\"Start with \", test.nbStick, \" and win\" if negamaxDecision(test)==1 else \" and lose\")"
   ]
  },
  {
   "cell_type": "code",
   "execution_count": null,
   "metadata": {},
   "outputs": [],
   "source": []
  }
 ],
 "metadata": {
  "kernelspec": {
   "display_name": "Python 3",
   "language": "python",
   "name": "python3"
  },
  "language_info": {
   "codemirror_mode": {
    "name": "ipython",
    "version": 3
   },
   "file_extension": ".py",
   "mimetype": "text/x-python",
   "name": "python",
   "nbconvert_exporter": "python",
   "pygments_lexer": "ipython3",
   "version": "3.8.3"
  }
 },
 "nbformat": 4,
 "nbformat_minor": 4
}
