{
 "cells": [
  {
   "cell_type": "markdown",
   "metadata": {},
   "source": [
    "# Stick Game"
   ]
  },
  {
   "cell_type": "code",
   "execution_count": 11,
   "metadata": {},
   "outputs": [],
   "source": [
    "import numpy as np"
   ]
  },
  {
   "cell_type": "markdown",
   "metadata": {},
   "source": [
    "## The class to play"
   ]
  },
  {
   "cell_type": "code",
   "execution_count": 43,
   "metadata": {},
   "outputs": [],
   "source": [
    "class stateSG():\n",
    "    \"\"\"\n",
    "    Class wich represent a state of the game \"Stick Game\" from the french TV show \"Fort Boyard\"\n",
    "    \"\"\"    \n",
    "    def __init__(self, nbStick, maxPlayer, nbMaxTook=3):\n",
    "        \"\"\"\n",
    "        Create a state of the game.\n",
    "        \n",
    "        Important information for the game is the number of stick (at the beginning), \n",
    "        the first player and the max number that a player can take in one turn.\n",
    "        \n",
    "        :param nbStick: The number of stick at the beginning of the game\n",
    "        :param maxPlayer: The player wich begin. True for the \"MAX\" player and False for \"MIN\" player\n",
    "        :param nbMaxTook: The maximum number of sticks that a player can take in one turn\n",
    "        \n",
    "        :type nbStick: int\n",
    "        :type maxPlayer: boolean\n",
    "        :type maxPlayer: int\n",
    "        \n",
    "        :return: The state with the choosen information\n",
    "        :rtype: stateSG\n",
    "        \"\"\"\n",
    "        self.nbStick = nbStick\n",
    "        self.maxPlayer = 1 if maxPlayer==True else -1\n",
    "        self.nbMaxTook = nbMaxTook\n",
    "        \n",
    "    def calculateScore(self):\n",
    "        \"\"\"\n",
    "        Calculate the score of the current state if it's a terminal state (then return 0)\n",
    "        \n",
    "        This function can be modify to estimate the score for a non terminal state.\n",
    "        \n",
    "        :return: The score of the current state\n",
    "        :rtype: int\n",
    "        \"\"\"\n",
    "        if(self.nbStick <= 1):\n",
    "            return -self.maxPlayer \n",
    "        return 0 #To indicate no one win for now. Can be replace by a function which estimate the score\n",
    "    \n",
    "    def getChoices(self):\n",
    "        \"\"\"\n",
    "        Get the different choice for the player for the current state.\n",
    "        \n",
    "        :return: Every choices that the player can make. \n",
    "        :rtype: list[int]\n",
    "        \"\"\"\n",
    "        nbMaxTurn = self.nbMaxTook if self.nbMaxTook<= self.nbStick else self.nbStick\n",
    "        return [i for i in range(1, nbMaxTurn+1)]\n",
    "        \n",
    "    def doChoice(self, nb, inNewState = False):\n",
    "        \"\"\"\n",
    "        Apply the choice to the current state (inplace or not)\n",
    "        \n",
    "        :param nb: The number of stick that the player want to take\n",
    "        :param inNewState: To choose if the choice is apply inplace (on the current state) or not (on a copy of the current state)\n",
    "        \n",
    "        :type nb: int\n",
    "        :type inNewState: boolean\n",
    "        \n",
    "        :return: Nothing if it's inplace then the new state.\n",
    "        :rtype: stateSG or None\n",
    "        \"\"\"\n",
    "        if(inNewState == False):\n",
    "            self.nbStick -= nb\n",
    "            self.maxPlayer *= -1\n",
    "            return None\n",
    "        else:\n",
    "            return stateSG(self.nbStick-nb, -self.maxPlayer)\n",
    "            \n",
    "    def undoChoice(self, nb, inNewState = False):\n",
    "        \"\"\"\n",
    "        Undo the given choice for the current state (inplace or not)\n",
    "        \n",
    "        :param nb: The number of stick that the player want to take\n",
    "        :param inNewState: To choose if the choice is apply inplace (on the current state) or not (on a copy of the current state)\n",
    "        \n",
    "        :type nb: int\n",
    "        :type inNewState: boolean\n",
    "        \n",
    "        :return: Nothing if it's inplace then the new state.\n",
    "        :rtype: stateSG or None\n",
    "        \"\"\"\n",
    "        return self.doChoice(-nb, inNewState)\n",
    "    \n",
    "    def toKey(self):\n",
    "        \"\"\"\n",
    "        Get the unique ID of the state.\n",
    "        \n",
    "        This ID is useful to use memoization in different algorithms\n",
    "        \n",
    "        :return: the ID of the current state\n",
    "        :rtype: string\n",
    "        \"\"\"\n",
    "        return str(self.nbStick)+\";\"+str(self.maxPlayer)+\";\"+str(self.nbMaxTook)"
   ]
  },
  {
   "cell_type": "markdown",
   "metadata": {},
   "source": [
    "## Minmax implementation (without memoization)"
   ]
  },
  {
   "cell_type": "code",
   "execution_count": 44,
   "metadata": {},
   "outputs": [],
   "source": [
    "def minmaxDecision(state):\n",
    "    \"\"\"\n",
    "    Implementation of MinMax algorithm without memoization\n",
    "    \n",
    "    :param state: The state of the game on wich we want to get the best choice and score.\n",
    "    \n",
    "    :type state: StateGame\n",
    "    \n",
    "    :return: Return a 2-tuple with the score and the best choice to make\n",
    "    :rtype: 2-tuple(typeof(state.calculScore()), typeof(state.getChoices()[0]))\n",
    "    \"\"\"\n",
    "    \n",
    "    score = state.calculateScore()\n",
    "    \n",
    "    # Terminal Node\n",
    "    if(score != 0):\n",
    "        return score, None\n",
    "    \n",
    "    choices = state.getChoices()\n",
    "    \n",
    "    #MAX player\n",
    "    if(state.maxPlayer == 1): \n",
    "        score = -np.inf\n",
    "        bestChoice = None\n",
    "        for choice in choices:\n",
    "            state.doChoice(choice)\n",
    "            newScore, newChoice = minmaxDecision(state)\n",
    "            if(newScore > score):\n",
    "                score = newScore\n",
    "                bestChoice = choice\n",
    "            state.undoChoice(choice)\n",
    "        return score, bestChoice\n",
    "    \n",
    "    #MIN player\n",
    "    else: \n",
    "        score = np.inf\n",
    "        bestChoice = None\n",
    "        for choice in choices:\n",
    "            state.doChoice(choice)\n",
    "            newScore, newChoice = minmaxDecision(state)\n",
    "            if(newScore < score):\n",
    "                score = newScore\n",
    "                bestChoice = choice\n",
    "            state.undoChoice(choice)\n",
    "        return score, bestChoice"
   ]
  },
  {
   "cell_type": "code",
   "execution_count": 45,
   "metadata": {
    "scrolled": false
   },
   "outputs": [
    {
     "name": "stdout",
     "output_type": "stream",
     "text": [
      "Start with  1  and lose\n",
      "Start with  2  and win with best choice :1\n",
      "Start with  3  and win with best choice :2\n",
      "Start with  4  and win with best choice :3\n",
      "Start with  5  and lose\n",
      "Start with  6  and win with best choice :1\n",
      "Start with  7  and win with best choice :2\n",
      "Start with  8  and win with best choice :3\n",
      "Start with  9  and lose\n",
      "Start with  10  and win with best choice :1\n"
     ]
    }
   ],
   "source": [
    "for i in range(1, 11):\n",
    "    test = stateSG(i, True)\n",
    "    score, choice = minmaxDecision(test) \n",
    "    print(\"Start with \", test.nbStick, \" and win with best choice :\"+str(choice) if score==1 else \" and lose\")"
   ]
  },
  {
   "cell_type": "markdown",
   "metadata": {},
   "source": [
    "## Negamax implementation (without memoization)"
   ]
  },
  {
   "cell_type": "code",
   "execution_count": 46,
   "metadata": {},
   "outputs": [],
   "source": [
    "def negamaxDecision(state):\n",
    "    \"\"\"\n",
    "    Implementation of Negamax algorithm without memoization\n",
    "    \n",
    "    :param state: The state of the game on wich we want to get the best choice and score.\n",
    "    \n",
    "    :type state: StateGame\n",
    "    \n",
    "    :return: Return a 2-tuple with the score and the best choice to make\n",
    "    :rtype: 2-tuple(typeof(state.calculScore()), typeof(state.getChoices()[0]))\n",
    "    \"\"\"\n",
    "    score = state.calculateScore()\n",
    "    \n",
    "    # Terminal Node\n",
    "    if(score != 0):\n",
    "        return score*state.maxPlayer, None\n",
    "    \n",
    "    score = -np.inf\n",
    "    bestChoice = None\n",
    "    choices = state.getChoices()\n",
    "    for choice in choices:\n",
    "        state.doChoice(choice)\n",
    "        newScore, newChoice = negamaxDecision(state)\n",
    "        newScore *= -1\n",
    "        if(newScore > score):\n",
    "            score = newScore\n",
    "            bestChoice = choice\n",
    "        state.undoChoice(choice)\n",
    "    return score, bestChoice"
   ]
  },
  {
   "cell_type": "code",
   "execution_count": 47,
   "metadata": {},
   "outputs": [
    {
     "name": "stdout",
     "output_type": "stream",
     "text": [
      "Start with  1  and lose\n",
      "Start with  2  and win with best choice :1\n",
      "Start with  3  and win with best choice :2\n",
      "Start with  4  and win with best choice :3\n",
      "Start with  5  and lose\n",
      "Start with  6  and win with best choice :1\n",
      "Start with  7  and win with best choice :2\n",
      "Start with  8  and win with best choice :3\n",
      "Start with  9  and lose\n",
      "Start with  10  and win with best choice :1\n"
     ]
    }
   ],
   "source": [
    "for i in range(1, 11):\n",
    "    test = stateSG(i, True)\n",
    "    score, choice = negamaxDecision(test)\n",
    "    print(\"Start with \", test.nbStick, \" and win with best choice :\"+str(choice) if score==1 else \" and lose\")"
   ]
  },
  {
   "cell_type": "markdown",
   "metadata": {},
   "source": [
    "## Alpha-Beta implementation (without memoization)"
   ]
  },
  {
   "cell_type": "code",
   "execution_count": null,
   "metadata": {},
   "outputs": [],
   "source": [
    "def alphaBetaDecision(state, a, b):\n",
    "    \"\"\"\n",
    "    Implementation of Alphabeta algorithm without memoization\n",
    "    \n",
    "    :param state: The state of the game on wich we want to get the best choice and score.\n",
    "    :param a: The Alpha parameter of the algorithm\n",
    "    :param b: The Beta parameter of the algorithm\n",
    "    \n",
    "    :type state: StateGame\n",
    "    :type a: typeof(state.calculScore())\n",
    "    :type b: typeof(state.calculScore())\n",
    "    \n",
    "    :return: Return a 2-tuple with the score and the best choice to make\n",
    "    :rtype: 2-tuple(typeof(state.calculScore()), typeof(state.getChoices()[0]))\n",
    "    \"\"\"\n",
    "    score = state.calculateScore()\n",
    "    \n",
    "    # Terminal Node\n",
    "    if(score != 0):\n",
    "        return score, None\n",
    "    \n",
    "    choices = state.getChoices()\n",
    "    \n",
    "    #MAX player\n",
    "    if(state.maxPlayer == 1):\n",
    "        score = -np.inf\n",
    "        bestChoice = None\n",
    "        for choice in choices:\n",
    "            state.doChoice(choice)\n",
    "            newScore, newChoice = alphaBetaDecision(state, a, b)\n",
    "            if(newScore > score):\n",
    "                score = newScore\n",
    "                bestChoice = choice\n",
    "            if(score >= b):\n",
    "                state.undoChoice(choice)\n",
    "                return score, bestChoice\n",
    "            a = max(a, score)\n",
    "            state.undoChoice(choice)\n",
    "        return score, bestChoice\n",
    "    #MIN player\n",
    "    else:\n",
    "        score = np.inf\n",
    "        bestChoice = None\n",
    "        for choice in choices:\n",
    "            state.doChoice(choice)\n",
    "            newScore, newChoice = alphaBetaDecision(state, a, b)\n",
    "            if(newScore < score):\n",
    "                score = newScore\n",
    "                bestChoice = choice\n",
    "            if(score >= b):\n",
    "                state.undoChoice(choice)\n",
    "                return score, bestChoice\n",
    "            b = min(b, score)\n",
    "            state.undoChoice(choice)\n",
    "        return score, bestChoice"
   ]
  },
  {
   "cell_type": "code",
   "execution_count": null,
   "metadata": {},
   "outputs": [],
   "source": [
    "for i in range(1, 11):\n",
    "    test = stateSG(i, True)\n",
    "    nb = test.nbStick\n",
    "    score, choice = alphaBetaDecision(test, -np.inf, np.inf) \n",
    "    print(\"Start with \", nb, \" and win with best choice :\"+str(choice) if score==1 else \" and lose\")"
   ]
  },
  {
   "cell_type": "markdown",
   "metadata": {},
   "source": [
    "## Alpha-Beta Negamax implementation (without memoization)"
   ]
  },
  {
   "cell_type": "code",
   "execution_count": null,
   "metadata": {},
   "outputs": [],
   "source": [
    "def alphaBetaNegamaxDecision(state, ab):\n",
    "    \"\"\"\n",
    "    Implementation of Alphabeta algorithm with \"negamax-like\" simplification without memoization\n",
    "    \n",
    "    :param state: The state of the game on wich we want to get the best choice and score.\n",
    "    :param ab: The parameter of the algorithm\n",
    "    \n",
    "    :type state: StateGame\n",
    "    :type ab: typeof(state.calculScore())\n",
    "    \n",
    "    :return: Return a 2-tuple with the score and the best choice to make\n",
    "    :rtype: 2-tuple(typeof(state.calculScore()), typeof(state.getChoices()[0]))\n",
    "    \"\"\"\n",
    "    score = state.calculateScore()\n",
    "    \n",
    "    # Terminal Node\n",
    "    if(score != 0):\n",
    "        return score*state.maxPlayer, None\n",
    "    \n",
    "    score = -np.inf\n",
    "    bestChoice = None\n",
    "    choices = state.getChoices()\n",
    "    for choice in choices:\n",
    "        state.doChoice(choice)\n",
    "        newScore, newChoice = alphaBetaNegamaxDecision(state, score)\n",
    "        if(newScore > score):\n",
    "            score = -newScore\n",
    "            bestChoice = choice\n",
    "        if(score <= ab):\n",
    "            state.undoChoice(choice)\n",
    "            return score, bestChoice\n",
    "        state.undoChoice(choice)\n",
    "    return score, bestChoice"
   ]
  },
  {
   "cell_type": "code",
   "execution_count": null,
   "metadata": {},
   "outputs": [],
   "source": [
    "for i in range(1, 11):\n",
    "    test = stateSG(i, True)\n",
    "    score, choice = alphaBetaNegamaxDecision(test, -np.inf) \n",
    "    print(\"Start with \", test.nbStick, \" and win with best choice :\"+str(choice) if score==1 else \" and lose\")"
   ]
  },
  {
   "cell_type": "markdown",
   "metadata": {},
   "source": [
    "## Algorithms with Memoization"
   ]
  },
  {
   "cell_type": "code",
   "execution_count": 4,
   "metadata": {},
   "outputs": [],
   "source": [
    "states = {}"
   ]
  },
  {
   "cell_type": "markdown",
   "metadata": {},
   "source": [
    "## Minmax implementation (with memoization)"
   ]
  },
  {
   "cell_type": "code",
   "execution_count": 48,
   "metadata": {},
   "outputs": [],
   "source": [
    "def minmaxDecision(state):\n",
    "    \"\"\"\n",
    "    Implementation of MinMax algorithm with memoization\n",
    "    \n",
    "    :param state: The state of the game on wich we want to get the best choice and score.\n",
    "    \n",
    "    :type state: StateGame\n",
    "    \n",
    "    :return: Return a 2-tuple with the score and the best choice to make\n",
    "    :rtype: 2-tuple(typeof(state.calculScore()), typeof(state.getChoices()[0]))\n",
    "    \"\"\"\n",
    "    global states #global to use memoization\n",
    "    key = state.toKey()\n",
    "    \n",
    "    #if the state already calculated, return values\n",
    "    if(key in states):\n",
    "        return states[key]\n",
    "    \n",
    "    score = state.calculateScore()\n",
    "    \n",
    "    # Terminal Node\n",
    "    if(score != 0):\n",
    "        states[key] = score, None #Save values\n",
    "        return states[key]\n",
    "    \n",
    "    choices = state.getChoices()\n",
    "    \n",
    "    #MAX player\n",
    "    if(state.maxPlayer == 1):\n",
    "        score = -np.inf\n",
    "        bestChoice = None\n",
    "        for choice in choices:\n",
    "            state.doChoice(choice)\n",
    "            newScore, newChoice = minmaxDecision(state)\n",
    "            if(newScore > score):\n",
    "                score = newScore\n",
    "                bestChoice = choice\n",
    "            state.undoChoice(choice)\n",
    "        states[key] = score, bestChoice #Save values\n",
    "        \n",
    "    #MIN player\n",
    "    else:\n",
    "        score = np.inf\n",
    "        bestChoice = None\n",
    "        for choice in choices:\n",
    "            state.doChoice(choice)\n",
    "            newScore, newChoice = minmaxDecision(state)\n",
    "            if(newScore < score):\n",
    "                score = newScore\n",
    "                bestChoice = choice\n",
    "            state.undoChoice(choice)\n",
    "        states[key] = score, bestChoice #Save values\n",
    "    return states[key]"
   ]
  },
  {
   "cell_type": "code",
   "execution_count": 49,
   "metadata": {},
   "outputs": [
    {
     "name": "stdout",
     "output_type": "stream",
     "text": [
      "Start with  1  and lose\n",
      "Start with  2  and win with best choice :1\n",
      "Start with  3  and win with best choice :2\n",
      "Start with  4  and win with best choice :3\n",
      "Start with  5  and lose\n",
      "Start with  6  and win with best choice :1\n",
      "Start with  7  and win with best choice :2\n",
      "Start with  8  and win with best choice :3\n",
      "Start with  9  and lose\n",
      "Start with  10  and win with best choice :1\n"
     ]
    }
   ],
   "source": [
    "for i in range(1, 11):\n",
    "    test = stateSG(i, True)\n",
    "    score, choice = minmaxDecision(test) \n",
    "    print(\"Start with \", test.nbStick, \" and win with best choice :\"+str(choice) if score==1 else \" and lose\")"
   ]
  },
  {
   "cell_type": "markdown",
   "metadata": {},
   "source": [
    "## Negamax implementation (with memoization)"
   ]
  },
  {
   "cell_type": "code",
   "execution_count": 50,
   "metadata": {},
   "outputs": [],
   "source": [
    "def negamaxDecision(state):\n",
    "    \"\"\"\n",
    "    Implementation of Negamax algorithm with memoization\n",
    "    \n",
    "    :param state: The state of the game on wich we want to get the best choice and score.\n",
    "    \n",
    "    :type state: StateGame\n",
    "    \n",
    "    :return: Return a 2-tuple with the score and the best choice to make\n",
    "    :rtype: 2-tuple(typeof(state.calculScore()), typeof(state.getChoices()[0]))\n",
    "    \"\"\"\n",
    "    global states #global to use memoization\n",
    "    key = state.toKey()\n",
    "    \n",
    "    #if the state already calculated, return values\n",
    "    if(key in states):\n",
    "        return states[key]\n",
    "    \n",
    "    score = state.calculateScore()\n",
    "    \n",
    "    # Terminal Node\n",
    "    if(score != 0):\n",
    "        states[key] = score*state.maxPlayer, None #Save values\n",
    "        return states[key] \n",
    "    \n",
    "    score = -np.inf\n",
    "    bestChoice = None\n",
    "    choices = state.getChoices()\n",
    "    for choice in choices:\n",
    "        state.doChoice(choice)\n",
    "        newScore, newChoice = negamaxDecision(state)\n",
    "        newScore *= -1\n",
    "        if(newScore > score):\n",
    "            score = newScore\n",
    "            bestChoice = choice\n",
    "        state.undoChoice(choice)\n",
    "    states[key] = score, bestChoice #Save values\n",
    "    return states[key]"
   ]
  },
  {
   "cell_type": "code",
   "execution_count": 51,
   "metadata": {
    "scrolled": true
   },
   "outputs": [
    {
     "name": "stdout",
     "output_type": "stream",
     "text": [
      "Start with  1  and lose\n",
      "Start with  2  and win with best choice :1\n",
      "Start with  3  and win with best choice :2\n",
      "Start with  4  and win with best choice :3\n",
      "Start with  5  and lose\n",
      "Start with  6  and win with best choice :1\n",
      "Start with  7  and win with best choice :2\n",
      "Start with  8  and win with best choice :3\n",
      "Start with  9  and lose\n",
      "Start with  10  and win with best choice :1\n"
     ]
    }
   ],
   "source": [
    "for i in range(1, 11):\n",
    "    test = stateSG(i, True)\n",
    "    score, choice = negamaxDecision(test)\n",
    "    print(\"Start with \", test.nbStick, \" and win with best choice :\"+str(choice) if score==1 else \" and lose\")"
   ]
  },
  {
   "cell_type": "markdown",
   "metadata": {},
   "source": [
    "## Alpha-Beta implementation (with memoization)"
   ]
  },
  {
   "cell_type": "code",
   "execution_count": 38,
   "metadata": {},
   "outputs": [],
   "source": []
  },
  {
   "cell_type": "code",
   "execution_count": 39,
   "metadata": {},
   "outputs": [
    {
     "name": "stdout",
     "output_type": "stream",
     "text": [
      "Start with  1  and lose\n",
      "Start with  2  and win with best choice :1\n",
      "Start with  3  and win with best choice :2\n",
      "Start with  4  and win with best choice :3\n",
      "Start with  5  and win with best choice :1\n",
      "Start with  6  and win with best choice :1\n",
      "Start with  7  and win with best choice :1\n",
      "Start with  8  and win with best choice :1\n",
      "Start with  9  and win with best choice :1\n",
      "Start with  10  and win with best choice :1\n"
     ]
    }
   ],
   "source": [
    "for i in range(1, 11):\n",
    "    test = stateSG(i, True)\n",
    "    nb = test.nbStick\n",
    "    score, choice = alphaBetaDecision(test, -np.inf, np.inf) \n",
    "    print(\"Start with \", nb, \" and win with best choice :\"+str(choice) if score==1 else \" and lose\")"
   ]
  },
  {
   "cell_type": "markdown",
   "metadata": {},
   "source": [
    "## Alpha-Beta Negamax implementation (with memoization)"
   ]
  },
  {
   "cell_type": "code",
   "execution_count": 40,
   "metadata": {},
   "outputs": [],
   "source": []
  },
  {
   "cell_type": "code",
   "execution_count": 42,
   "metadata": {
    "scrolled": false
   },
   "outputs": [
    {
     "name": "stdout",
     "output_type": "stream",
     "text": [
      "Start with  1  and lose\n",
      "Start with  2  and win with best choice :1\n",
      "Start with  3  and lose\n",
      "Start with  4  and win with best choice :1\n",
      "Start with  5  and lose\n",
      "Start with  6  and win with best choice :1\n",
      "Start with  7  and lose\n",
      "Start with  8  and win with best choice :1\n",
      "Start with  9  and lose\n",
      "Start with  10  and win with best choice :1\n"
     ]
    }
   ],
   "source": [
    "for i in range(1, 11):\n",
    "    test = stateSG(i, True)\n",
    "    score, choice = alphaBetaNegamaxDecision(test, -np.inf) \n",
    "    print(\"Start with \", test.nbStick, \" and win with best choice :\"+str(choice) if score==1 else \" and lose\")"
   ]
  },
  {
   "cell_type": "code",
   "execution_count": null,
   "metadata": {},
   "outputs": [],
   "source": []
  }
 ],
 "metadata": {
  "kernelspec": {
   "display_name": "Python 3",
   "language": "python",
   "name": "python3"
  },
  "language_info": {
   "codemirror_mode": {
    "name": "ipython",
    "version": 3
   },
   "file_extension": ".py",
   "mimetype": "text/x-python",
   "name": "python",
   "nbconvert_exporter": "python",
   "pygments_lexer": "ipython3",
   "version": "3.8.3"
  }
 },
 "nbformat": 4,
 "nbformat_minor": 4
}
