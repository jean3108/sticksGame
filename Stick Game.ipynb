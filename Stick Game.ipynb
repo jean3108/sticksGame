{
 "cells": [
  {
   "cell_type": "markdown",
   "metadata": {},
   "source": [
    "# Stick Game"
   ]
  },
  {
   "cell_type": "markdown",
   "metadata": {},
   "source": [
    "## The class to play"
   ]
  },
  {
   "cell_type": "code",
   "execution_count": 26,
   "metadata": {},
   "outputs": [],
   "source": [
    "nbMaxTook = 3\n",
    "class stateSG():\n",
    "\n",
    "    def __init__(self, nbStick, maxPlayer):\n",
    "        self.nbStick = nbStick\n",
    "        self.maxPlayer = 1 if maxPlayer==True else -1\n",
    "        \n",
    "    def calculateScore(self):\n",
    "        \n",
    "        if(self.nbStick <= 1):\n",
    "            return -self.maxPlayer \n",
    "        return 0 #To indicate no one win for now. Can be replace by a function which estimate the score\n",
    "    \n",
    "    def getChoices(self):\n",
    "        nbMaxTurn = nbMaxTook if nbMaxTook<= self.nbStick else self.nbStick\n",
    "        return [i for i in range(1, nbMaxTurn+1)]\n",
    "        \n",
    "    def doChoice(self, nb, inNewState = False):\n",
    "        \n",
    "        if(inNewState == False):\n",
    "            self.nbStick -= nb\n",
    "            self.maxPlayer *= -1\n",
    "            return None\n",
    "        else:\n",
    "            return stateSG(self.nbStick-nb, -self.maxPlayer)\n",
    "            \n",
    "    def undoChoice(self, nb, inNewState = False):\n",
    "\n",
    "        return self.doChoice(-nb, inNewState)\n",
    "    \n",
    "    def toKey(self):\n",
    "        \n",
    "        return str(self.nbStick)+\";\"+str(self.maxPlayer)"
   ]
  },
  {
   "cell_type": "markdown",
   "metadata": {},
   "source": [
    "## Minmax implementation (without memoization)"
   ]
  },
  {
   "cell_type": "code",
   "execution_count": 5,
   "metadata": {},
   "outputs": [],
   "source": [
    "def minmaxDecision(state):\n",
    "    \n",
    "    score = state.calculateScore()\n",
    "    if(score != 0):\n",
    "        return score\n",
    "    \n",
    "    choices = state.getChoices()\n",
    "    if(state.maxPlayer == 1):\n",
    "        score = -1\n",
    "        for choice in choices:\n",
    "            state.doChoice(choice)\n",
    "            score = max(score, minmaxDecision(state))\n",
    "            state.undoChoice(choice)\n",
    "        return score\n",
    "    else:\n",
    "        score = 1\n",
    "        for choice in choices:\n",
    "            state.doChoice(choice)\n",
    "            score = min(score, minmaxDecision(state))\n",
    "            state.undoChoice(choice)\n",
    "        return score"
   ]
  },
  {
   "cell_type": "code",
   "execution_count": 13,
   "metadata": {},
   "outputs": [],
   "source": [
    "def minmaxDecision(state):\n",
    "    \n",
    "    score = state.calculateScore()\n",
    "    if(score != 0):\n",
    "        return score, None\n",
    "    \n",
    "    choices = state.getChoices()\n",
    "    if(state.maxPlayer == 1):\n",
    "        score = -1\n",
    "        bestChoice = None\n",
    "        for choice in choices:\n",
    "            state.doChoice(choice)\n",
    "            newScore, newChoice = minmaxDecision(state)\n",
    "            if(newScore > score):\n",
    "                score = newScore\n",
    "                bestChoice = choice\n",
    "            state.undoChoice(choice)\n",
    "        return score, bestChoice\n",
    "    else:\n",
    "        score = 1\n",
    "        bestChoice = None\n",
    "        for choice in choices:\n",
    "            state.doChoice(choice)\n",
    "            newScore, newChoice = minmaxDecision(state)\n",
    "            if(newScore < score):\n",
    "                score = newScore\n",
    "                bestChoice = choice\n",
    "            state.undoChoice(choice)\n",
    "        return score, bestChoice"
   ]
  },
  {
   "cell_type": "code",
   "execution_count": 15,
   "metadata": {},
   "outputs": [
    {
     "name": "stdout",
     "output_type": "stream",
     "text": [
      "Start with  1  and lose\n",
      "Start with  2  and win with best choice :1\n",
      "Start with  3  and win with best choice :2\n",
      "Start with  4  and win with best choice :3\n",
      "Start with  5  and lose\n",
      "Start with  6  and win with best choice :1\n",
      "Start with  7  and win with best choice :2\n",
      "Start with  8  and win with best choice :3\n",
      "Start with  9  and lose\n",
      "Start with  10  and win with best choice :1\n"
     ]
    }
   ],
   "source": [
    "for i in range(1, 11):\n",
    "    test = stateSG(i, True)\n",
    "    score, choice = minmaxDecision(test) \n",
    "    print(\"Start with \", test.nbStick, \" and win with best choice :\"+str(choice) if score==1 else \" and lose\")"
   ]
  },
  {
   "cell_type": "markdown",
   "metadata": {},
   "source": [
    "## Negamax implementation (without memoization)"
   ]
  },
  {
   "cell_type": "code",
   "execution_count": 9,
   "metadata": {},
   "outputs": [],
   "source": [
    "def negamaxDecision(state):\n",
    "    \n",
    "    score = state.calculateScore()\n",
    "    if(score != 0):\n",
    "        return score * state.maxPlayer\n",
    "    \n",
    "    score = -1\n",
    "    choices = state.getChoices()\n",
    "    for choice in choices:\n",
    "        state.doChoice(choice)\n",
    "        score = max(score,  -negamaxDecision(state))\n",
    "        state.undoChoice(choice)\n",
    "    return score"
   ]
  },
  {
   "cell_type": "code",
   "execution_count": 20,
   "metadata": {},
   "outputs": [],
   "source": [
    "def negamaxDecision(state):\n",
    "    \n",
    "    score = state.calculateScore()\n",
    "    if(score != 0):\n",
    "        return score*state.maxPlayer, None\n",
    "    \n",
    "    score = -1\n",
    "    bestChoice = None\n",
    "    choices = state.getChoices()\n",
    "    for choice in choices:\n",
    "        state.doChoice(choice)\n",
    "        newScore, newChoice = negamaxDecision(state)\n",
    "        newScore *= -1\n",
    "        if(newScore > score):\n",
    "            score = newScore\n",
    "            bestChoice = choice\n",
    "        state.undoChoice(choice)\n",
    "    return score, bestChoice"
   ]
  },
  {
   "cell_type": "code",
   "execution_count": 21,
   "metadata": {},
   "outputs": [
    {
     "name": "stdout",
     "output_type": "stream",
     "text": [
      "Start with  1  and lose\n",
      "Start with  2  and win with best choice :1\n",
      "Start with  3  and win with best choice :2\n",
      "Start with  4  and win with best choice :3\n",
      "Start with  5  and lose\n",
      "Start with  6  and win with best choice :1\n",
      "Start with  7  and win with best choice :2\n",
      "Start with  8  and win with best choice :3\n",
      "Start with  9  and lose\n",
      "Start with  10  and win with best choice :1\n"
     ]
    }
   ],
   "source": [
    "for i in range(1, 11):\n",
    "    test = stateSG(i, True)\n",
    "    score, choice = negamaxDecision(test)\n",
    "    print(\"Start with \", test.nbStick, \" and win with best choice :\"+str(choice) if score==1 else \" and lose\")"
   ]
  },
  {
   "cell_type": "markdown",
   "metadata": {},
   "source": [
    "## Algorithms with Memoization"
   ]
  },
  {
   "cell_type": "code",
   "execution_count": 32,
   "metadata": {},
   "outputs": [],
   "source": [
    "states = {}"
   ]
  },
  {
   "cell_type": "markdown",
   "metadata": {},
   "source": [
    "## Minmax implementation (with memoization)"
   ]
  },
  {
   "cell_type": "code",
   "execution_count": 29,
   "metadata": {},
   "outputs": [],
   "source": [
    "def minmaxDecision(state):\n",
    "    \n",
    "    global states\n",
    "    key = state.toKey()\n",
    "    if(key in states):\n",
    "        return states[key]\n",
    "    \n",
    "    score = state.calculateScore()\n",
    "    if(score != 0):\n",
    "        states[key] = score, None\n",
    "        return states[key]\n",
    "    \n",
    "    choices = state.getChoices()\n",
    "    if(state.maxPlayer == 1):\n",
    "        score = -1\n",
    "        bestChoice = None\n",
    "        for choice in choices:\n",
    "            state.doChoice(choice)\n",
    "            newScore, newChoice = minmaxDecision(state)\n",
    "            if(newScore > score):\n",
    "                score = newScore\n",
    "                bestChoice = choice\n",
    "            state.undoChoice(choice)\n",
    "        states[key] = score, bestChoice\n",
    "    else:\n",
    "        score = 1\n",
    "        bestChoice = None\n",
    "        for choice in choices:\n",
    "            state.doChoice(choice)\n",
    "            newScore, newChoice = minmaxDecision(state)\n",
    "            if(newScore < score):\n",
    "                score = newScore\n",
    "                bestChoice = choice\n",
    "            state.undoChoice(choice)\n",
    "        states[key] = score, bestChoice\n",
    "    return states[key]"
   ]
  },
  {
   "cell_type": "code",
   "execution_count": 30,
   "metadata": {},
   "outputs": [
    {
     "name": "stdout",
     "output_type": "stream",
     "text": [
      "Start with  1  and lose\n",
      "Start with  2  and win with best choice :1\n",
      "Start with  3  and win with best choice :2\n",
      "Start with  4  and win with best choice :3\n",
      "Start with  5  and lose\n",
      "Start with  6  and win with best choice :1\n",
      "Start with  7  and win with best choice :2\n",
      "Start with  8  and win with best choice :3\n",
      "Start with  9  and lose\n",
      "Start with  10  and win with best choice :1\n"
     ]
    }
   ],
   "source": [
    "for i in range(1, 11):\n",
    "    test = stateSG(i, True)\n",
    "    score, choice = minmaxDecision(test) \n",
    "    print(\"Start with \", test.nbStick, \" and win with best choice :\"+str(choice) if score==1 else \" and lose\")"
   ]
  },
  {
   "cell_type": "markdown",
   "metadata": {},
   "source": [
    "## Negamax implementation (with memoization)"
   ]
  },
  {
   "cell_type": "code",
   "execution_count": 33,
   "metadata": {},
   "outputs": [],
   "source": [
    "def negamaxDecision(state):\n",
    "    \n",
    "    global states\n",
    "    key = state.toKey()\n",
    "    if(key in states):\n",
    "        return states[key]\n",
    "    \n",
    "    score = state.calculateScore()\n",
    "    if(score != 0):\n",
    "        states[key] = score*state.maxPlayer, None\n",
    "        return states[key] \n",
    "    \n",
    "    score = -1\n",
    "    bestChoice = None\n",
    "    choices = state.getChoices()\n",
    "    for choice in choices:\n",
    "        state.doChoice(choice)\n",
    "        newScore, newChoice = negamaxDecision(state)\n",
    "        newScore *= -1\n",
    "        if(newScore > score):\n",
    "            score = newScore\n",
    "            bestChoice = choice\n",
    "        state.undoChoice(choice)\n",
    "    states[key] = score, bestChoice\n",
    "    return states[key]"
   ]
  },
  {
   "cell_type": "code",
   "execution_count": 34,
   "metadata": {},
   "outputs": [
    {
     "name": "stdout",
     "output_type": "stream",
     "text": [
      "Start with  1  and lose\n",
      "Start with  2  and win with best choice :1\n",
      "Start with  3  and win with best choice :2\n",
      "Start with  4  and win with best choice :3\n",
      "Start with  5  and lose\n",
      "Start with  6  and win with best choice :1\n",
      "Start with  7  and win with best choice :2\n",
      "Start with  8  and win with best choice :3\n",
      "Start with  9  and lose\n",
      "Start with  10  and win with best choice :1\n"
     ]
    }
   ],
   "source": [
    "for i in range(1, 11):\n",
    "    test = stateSG(i, True)\n",
    "    score, choice = negamaxDecision(test)\n",
    "    print(\"Start with \", test.nbStick, \" and win with best choice :\"+str(choice) if score==1 else \" and lose\")"
   ]
  },
  {
   "cell_type": "code",
   "execution_count": null,
   "metadata": {},
   "outputs": [],
   "source": []
  }
 ],
 "metadata": {
  "kernelspec": {
   "display_name": "Python 3",
   "language": "python",
   "name": "python3"
  },
  "language_info": {
   "codemirror_mode": {
    "name": "ipython",
    "version": 3
   },
   "file_extension": ".py",
   "mimetype": "text/x-python",
   "name": "python",
   "nbconvert_exporter": "python",
   "pygments_lexer": "ipython3",
   "version": "3.8.3"
  }
 },
 "nbformat": 4,
 "nbformat_minor": 4
}
