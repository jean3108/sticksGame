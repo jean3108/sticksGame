{
 "cells": [
  {
   "cell_type": "markdown",
   "metadata": {},
   "source": [
    "# Stick Game"
   ]
  },
  {
   "cell_type": "markdown",
   "metadata": {},
   "source": [
    "States is a dict to memoize already calculated state using an ID"
   ]
  },
  {
   "cell_type": "code",
   "execution_count": null,
   "metadata": {},
   "outputs": [],
   "source": [
    "states = {}"
   ]
  },
  {
   "cell_type": "code",
   "execution_count": 37,
   "metadata": {},
   "outputs": [],
   "source": [
    "nbMaxTook = 3\n",
    "class stateSG():\n",
    "\n",
    "    def __init__(self, nbStick, maxPlayer):\n",
    "        self.nbStick = nbStick\n",
    "        self.maxPlayer = 1 if maxPlayer==True else -1\n",
    "        \n",
    "    def calculateScore(self):\n",
    "        \n",
    "        if(self.nbStick <= 1):\n",
    "            return -self.maxPlayer \n",
    "        \n",
    "        childs = [stateSG(self.nbStick-i-1, -self.maxPlayer)  for i in range(nbMaxTook)]\n",
    "        if(self.maxPlayer == 1):\n",
    "            score = -1\n",
    "            for child in childs:\n",
    "                score = max(score, child.calculateScore())\n",
    "            return score\n",
    "        else:\n",
    "            score = 1\n",
    "            for child in childs:\n",
    "                score = min(score, child.calculateScore())\n",
    "            return score\n",
    "        "
   ]
  },
  {
   "cell_type": "code",
   "execution_count": 41,
   "metadata": {},
   "outputs": [
    {
     "name": "stdout",
     "output_type": "stream",
     "text": [
      "Start with  1  and lose\n",
      "Start with  2  and win\n",
      "Start with  3  and win\n",
      "Start with  4  and win\n",
      "Start with  5  and lose\n",
      "Start with  6  and win\n",
      "Start with  7  and win\n",
      "Start with  8  and win\n",
      "Start with  9  and lose\n",
      "Start with  10  and win\n"
     ]
    }
   ],
   "source": [
    "for i in range(1, 11):\n",
    "    test = stateSG(i, True)\n",
    "    print(\"Start with \", test.nbStick, \" and win\" if test.calculateScore()==1 else \" and lose\")"
   ]
  },
  {
   "cell_type": "code",
   "execution_count": null,
   "metadata": {},
   "outputs": [],
   "source": []
  }
 ],
 "metadata": {
  "kernelspec": {
   "display_name": "Python 3",
   "language": "python",
   "name": "python3"
  },
  "language_info": {
   "codemirror_mode": {
    "name": "ipython",
    "version": 3
   },
   "file_extension": ".py",
   "mimetype": "text/x-python",
   "name": "python",
   "nbconvert_exporter": "python",
   "pygments_lexer": "ipython3",
   "version": "3.8.3"
  }
 },
 "nbformat": 4,
 "nbformat_minor": 4
}
